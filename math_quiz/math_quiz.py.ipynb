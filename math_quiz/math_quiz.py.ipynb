{
 "cells": [
  {
   "cell_type": "code",
   "execution_count": 4,
   "id": "189681ec",
   "metadata": {},
   "outputs": [
    {
     "name": "stdout",
     "output_type": "stream",
     "text": [
      "Welcome to the Math Quiz Game!\n",
      "You will be presented with math problems, and you need to provide the correct answers.\n",
      "\n",
      "Question: 8 - 5\n",
      "Your answer: 3\n",
      "Correct! You earned a point.\n",
      "\n",
      "Question: 2 + 3\n",
      "Your answer: 5\n",
      "Correct! You earned a point.\n",
      "\n",
      "Question: 5 * 3\n",
      "Your answer: 15\n",
      "Correct! You earned a point.\n",
      "\n",
      "Game over! Your score is: 3/3\n"
     ]
    }
   ],
   "source": [
    "import random\n",
    "\n",
    "\n",
    "def random_integer_generate(min, max):\n",
    "    \"\"\"\n",
    "    Generation of a random integer between the minimum and maximum integer value\n",
    "    \"\"\"\n",
    "    return random.randint(min, max)\n",
    "\n",
    "\n",
    "def random_operator_generate():\n",
    "    \"\"\"\n",
    "    Generation of a random mathematical operator: +,-,*\n",
    "    \"\"\"\n",
    "    \n",
    "    return random.choice(['+', '-', '*'])\n",
    "\n",
    "\n",
    "def calc(num1, num2, operator):\n",
    "    \"\"\"\n",
    "    Perform calculation of 2 numbers with an operator\n",
    "    \"\"\"\n",
    "    \n",
    "    p = f\"{num1} {operator} {num2}\"\n",
    "    if operator == '+': result = num1 + num2\n",
    "    elif operator == '-': result = num1 - num2\n",
    "    else: result = num1 * num2\n",
    "    return p, result\n",
    "\n",
    "def math_quiz():\n",
    "    score = 0\n",
    "    total_question = 3\n",
    "\n",
    "    print(\"Welcome to the Math Quiz Game!\")\n",
    "    print(\"You will be presented with math problems, and you need to provide the correct answers.\")\n",
    "\n",
    "    for _ in range(total_question):\n",
    "        num1 = random_integer_generate(1, 10); \n",
    "        num2 = random_integer_generate(1, 5); \n",
    "        operator = random_operator_generate()\n",
    "\n",
    "        PROBLEM, ANSWER = calc(num1, num2, operator)\n",
    "        print(f\"\\nQuestion: {PROBLEM}\")\n",
    "        \n",
    "        try:\n",
    "            useranswer = int(input(\"Your answer: \"))\n",
    "        \n",
    "        except ValueError:\n",
    "            print(\"Invalid input. Please enter a valid integer\")\n",
    "            continue\n",
    "            \n",
    "        \n",
    "        if useranswer == ANSWER:\n",
    "            print(\"Correct! You earned a point.\")\n",
    "            score += 1\n",
    "        else:\n",
    "            print(f\"Wrong answer. The correct answer is {ANSWER}.\")\n",
    "\n",
    "    print(f\"\\nGame over! Your score is: {score}/{total_question}\")\n",
    "\n",
    "if __name__ == \"__main__\":\n",
    "    math_quiz()\n"
   ]
  },
  {
   "cell_type": "code",
   "execution_count": null,
   "id": "508bffb7",
   "metadata": {},
   "outputs": [],
   "source": []
  }
 ],
 "metadata": {
  "kernelspec": {
   "display_name": "Python 3 (ipykernel)",
   "language": "python",
   "name": "python3"
  },
  "language_info": {
   "codemirror_mode": {
    "name": "ipython",
    "version": 3
   },
   "file_extension": ".py",
   "mimetype": "text/x-python",
   "name": "python",
   "nbconvert_exporter": "python",
   "pygments_lexer": "ipython3",
   "version": "3.9.12"
  }
 },
 "nbformat": 4,
 "nbformat_minor": 5
}
